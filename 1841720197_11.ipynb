{
  "nbformat": 4,
  "nbformat_minor": 0,
  "metadata": {
    "colab": {
      "name": "1841720197_11.ipynb",
      "provenance": [],
      "authorship_tag": "ABX9TyMH4/V/kYRS2djt3752WNOf",
      "include_colab_link": true
    },
    "kernelspec": {
      "name": "python3",
      "display_name": "Python 3"
    }
  },
  "cells": [
    {
      "cell_type": "markdown",
      "metadata": {
        "id": "view-in-github",
        "colab_type": "text"
      },
      "source": [
        "<a href=\"https://colab.research.google.com/github/altalarikyusuf98/Teknologi_Data/blob/main/1841720197_11.ipynb\" target=\"_parent\"><img src=\"https://colab.research.google.com/assets/colab-badge.svg\" alt=\"Open In Colab\"/></a>"
      ]
    },
    {
      "cell_type": "code",
      "metadata": {
        "id": "ZhK9EHzOfn9L",
        "outputId": "3d8207b9-0ef2-42ad-9412-913f442afb15",
        "colab": {
          "base_uri": "https://localhost:8080/"
        }
      },
      "source": [
        "myStr = 'Hello, Surabaya'\n",
        "print(len(myStr))\n",
        "\n",
        "pegawai = 'Sabine'\n",
        "print(\"nama : \", pegawai)\n",
        "print(\"pass\" + \"word\")\n",
        "\n",
        "# age = 35\n",
        "# mytext = 'Age is '\n",
        "# print(mytext + age) # Error\n",
        "\n",
        "age = 35\n",
        "mytext = 'Age is '\n",
        "print(mytext + str(age))\n",
        "\n",
        "print(\"Python \" * 3)"
      ],
      "execution_count": 1,
      "outputs": [
        {
          "output_type": "stream",
          "text": [
            "15\n",
            "nama :  Sabine\n",
            "password\n",
            "Age is 35\n",
            "Python Python Python \n"
          ],
          "name": "stdout"
        }
      ]
    }
  ]
}