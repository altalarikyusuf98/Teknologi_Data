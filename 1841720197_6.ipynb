{
  "nbformat": 4,
  "nbformat_minor": 0,
  "metadata": {
    "colab": {
      "name": "1841720197_6.ipynb",
      "provenance": [],
      "authorship_tag": "ABX9TyPmV84RKZMe95HATtdC3cbo",
      "include_colab_link": true
    },
    "kernelspec": {
      "name": "python3",
      "display_name": "Python 3"
    }
  },
  "cells": [
    {
      "cell_type": "markdown",
      "metadata": {
        "id": "view-in-github",
        "colab_type": "text"
      },
      "source": [
        "<a href=\"https://colab.research.google.com/github/altalarikyusuf98/Teknologi_Data/blob/main/1841720197_6.ipynb\" target=\"_parent\"><img src=\"https://colab.research.google.com/assets/colab-badge.svg\" alt=\"Open In Colab\"/></a>"
      ]
    },
    {
      "cell_type": "code",
      "metadata": {
        "colab": {
          "base_uri": "https://localhost:8080/"
        },
        "id": "NJ5n1KUUaK_1",
        "outputId": "0109a2ff-010e-4f90-d1c0-0627398dafdc"
      },
      "source": [
        "counter = 100 # integer value assignment\n",
        "jarak = 104.5 # floating point value\n",
        "name = \"nina\" # the name variable stores a String value\n",
        "\n",
        "# multiple assignments in one command line:\n",
        "a = b = c = 200\n",
        "name, city, salary = \"Sabine\", 'Surabaya', 70000\n",
        "\n",
        "print(counter)\n",
        "print(jarak)\n",
        "print(name)\n",
        "print(a, b, c)\n",
        "print(city)"
      ],
      "execution_count": 10,
      "outputs": [
        {
          "output_type": "stream",
          "text": [
            "100\n",
            "104.5\n",
            "Sabine\n",
            "200 200 200\n",
            "Surabaya\n"
          ],
          "name": "stdout"
        }
      ]
    }
  ]
}