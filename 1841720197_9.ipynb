{
  "nbformat": 4,
  "nbformat_minor": 0,
  "metadata": {
    "colab": {
      "name": "1841720197_9.ipynb",
      "provenance": [],
      "authorship_tag": "ABX9TyP5I4wgwWwKOnIwh3Fvv73J",
      "include_colab_link": true
    },
    "kernelspec": {
      "name": "python3",
      "display_name": "Python 3"
    }
  },
  "cells": [
    {
      "cell_type": "markdown",
      "metadata": {
        "id": "view-in-github",
        "colab_type": "text"
      },
      "source": [
        "<a href=\"https://colab.research.google.com/github/altalarikyusuf98/Teknologi_Data/blob/main/1841720197_9.ipynb\" target=\"_parent\"><img src=\"https://colab.research.google.com/assets/colab-badge.svg\" alt=\"Open In Colab\"/></a>"
      ]
    },
    {
      "cell_type": "code",
      "metadata": {
        "colab": {
          "base_uri": "https://localhost:8080/"
        },
        "id": "NJ5n1KUUaK_1",
        "outputId": "7e03e504-c221-4a02-c2ca-7578f91e8e03"
      },
      "source": [
        "name = input('What is your name? ')\n",
        "\n",
        "print('Hi ' + name + '!')"
      ],
      "execution_count": 14,
      "outputs": [
        {
          "output_type": "stream",
          "text": [
            "What is your name? Altalarik\n",
            "Hi Altalarik!\n"
          ],
          "name": "stdout"
        }
      ]
    }
  ]
}