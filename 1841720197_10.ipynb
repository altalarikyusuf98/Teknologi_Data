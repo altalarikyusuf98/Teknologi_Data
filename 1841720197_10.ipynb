{
  "nbformat": 4,
  "nbformat_minor": 0,
  "metadata": {
    "colab": {
      "name": "1841720197_10.ipynb",
      "provenance": [],
      "authorship_tag": "ABX9TyOim6bK2QTE3giAIruKS8kF",
      "include_colab_link": true
    },
    "kernelspec": {
      "name": "python3",
      "display_name": "Python 3"
    }
  },
  "cells": [
    {
      "cell_type": "markdown",
      "metadata": {
        "id": "view-in-github",
        "colab_type": "text"
      },
      "source": [
        "<a href=\"https://colab.research.google.com/github/altalarikyusuf98/Teknologi_Data/blob/main/1841720197_10.ipynb\" target=\"_parent\"><img src=\"https://colab.research.google.com/assets/colab-badge.svg\" alt=\"Open In Colab\"/></a>"
      ]
    },
    {
      "cell_type": "code",
      "metadata": {
        "colab": {
          "base_uri": "https://localhost:8080/"
        },
        "id": "NJ5n1KUUaK_1",
        "outputId": "635b251f-d753-4459-b195-b7a8bfe06fcc"
      },
      "source": [
        "nama = 'Sabine'\n",
        "\n",
        "kalimat = \"This is a sentence.\"\n",
        "\n",
        "Paragraf = \"\"\"This is a paragraph.\n",
        "Paragraphs are made up of several lines and sentences.\"\"\"\n",
        "\n",
        "print(nama)\n",
        "print(kalimat)\n",
        "print(Paragraf)\n",
        "\n",
        "print(nama[0:5])\n",
        "print(nama[2:])\n",
        "print(kalimat[-8:-1])"
      ],
      "execution_count": 15,
      "outputs": [
        {
          "output_type": "stream",
          "text": [
            "Sabine\n",
            "This is a sentence.\n",
            "This is a paragraph.\n",
            "Paragraphs are made up of several lines and sentences.\n",
            "Sabin\n",
            "bine\n",
            "entence\n"
          ],
          "name": "stdout"
        }
      ]
    }
  ]
}