{
  "nbformat": 4,
  "nbformat_minor": 0,
  "metadata": {
    "colab": {
      "name": "1841720197_3.ipynb",
      "provenance": [],
      "authorship_tag": "ABX9TyNDUWfpDgOgfNFnVFSBdzX+",
      "include_colab_link": true
    },
    "kernelspec": {
      "name": "python3",
      "display_name": "Python 3"
    }
  },
  "cells": [
    {
      "cell_type": "markdown",
      "metadata": {
        "id": "view-in-github",
        "colab_type": "text"
      },
      "source": [
        "<a href=\"https://colab.research.google.com/github/altalarikyusuf98/Teknologi_Data/blob/main/1841720197_3.ipynb\" target=\"_parent\"><img src=\"https://colab.research.google.com/assets/colab-badge.svg\" alt=\"Open In Colab\"/></a>"
      ]
    },
    {
      "cell_type": "code",
      "metadata": {
        "colab": {
          "base_uri": "https://localhost:8080/"
        },
        "id": "NJ5n1KUUaK_1",
        "outputId": "74cf3c5d-d147-47ae-e022-005cff996646"
      },
      "source": [
        "cabang = ['Jakarta', 'Bogor', 'Bandung', 'Solo', 'Malang', 'Surabaya',\n",
        "          'Banyuwangi', 'Denpasar', 'Makassar']\n",
        "print(cabang)"
      ],
      "execution_count": 3,
      "outputs": [
        {
          "output_type": "stream",
          "text": [
            "['Jakarta', 'Bogor', 'Bandung', 'Solo', 'Malang', 'Surabaya', 'Banyuwangi', 'Denpasar', 'Makassar']\n"
          ],
          "name": "stdout"
        }
      ]
    }
  ]
}