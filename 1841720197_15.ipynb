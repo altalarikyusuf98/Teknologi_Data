{
  "nbformat": 4,
  "nbformat_minor": 0,
  "metadata": {
    "colab": {
      "name": "1841720197_15.ipynb",
      "provenance": [],
      "authorship_tag": "ABX9TyO+FoLwcIz/fD4iB9cJ9+M6",
      "include_colab_link": true
    },
    "kernelspec": {
      "name": "python3",
      "display_name": "Python 3"
    }
  },
  "cells": [
    {
      "cell_type": "markdown",
      "metadata": {
        "id": "view-in-github",
        "colab_type": "text"
      },
      "source": [
        "<a href=\"https://colab.research.google.com/github/altalarikyusuf98/Teknologi_Data/blob/main/1841720197_15.ipynb\" target=\"_parent\"><img src=\"https://colab.research.google.com/assets/colab-badge.svg\" alt=\"Open In Colab\"/></a>"
      ]
    },
    {
      "cell_type": "code",
      "metadata": {
        "colab": {
          "base_uri": "https://localhost:8080/"
        },
        "id": "NJ5n1KUUaK_1",
        "outputId": "68e6bd72-5770-4ec1-b51d-96955e96b0b6"
      },
      "source": [
        "a = 10; b = 20\n",
        "mylist = [1, 2, 3, 4, 5]\n",
        "a = 2\n",
        "if (a in mylist):\n",
        "  print(\"Line 3 a is available in the given list\")\n",
        "else:\n",
        "  print(\"Line 3 a is not available in the given list\")"
      ],
      "execution_count": 20,
      "outputs": [
        {
          "output_type": "stream",
          "text": [
            "Line 3 a is available in the given list\n"
          ],
          "name": "stdout"
        }
      ]
    }
  ]
}