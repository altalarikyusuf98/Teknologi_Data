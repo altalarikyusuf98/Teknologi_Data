{
  "nbformat": 4,
  "nbformat_minor": 0,
  "metadata": {
    "colab": {
      "name": "1841720197_13.ipynb",
      "provenance": [],
      "authorship_tag": "ABX9TyOSE+cpC76QOH9PzA9BvRho",
      "include_colab_link": true
    },
    "kernelspec": {
      "name": "python3",
      "display_name": "Python 3"
    }
  },
  "cells": [
    {
      "cell_type": "markdown",
      "metadata": {
        "id": "view-in-github",
        "colab_type": "text"
      },
      "source": [
        "<a href=\"https://colab.research.google.com/github/altalarikyusuf98/Teknologi_Data/blob/main/1841720197_13.ipynb\" target=\"_parent\"><img src=\"https://colab.research.google.com/assets/colab-badge.svg\" alt=\"Open In Colab\"/></a>"
      ]
    },
    {
      "cell_type": "code",
      "metadata": {
        "colab": {
          "base_uri": "https://localhost:8080/"
        },
        "id": "7f6-rvjufxwh",
        "outputId": "89344f25-999b-475b-d9ac-9678419279aa"
      },
      "source": [
        "s = \"SaMurai\"\n",
        "s.lower() # 'samurai'\n",
        "print(s) # 'SaMurai'\n",
        "s2 = s.lower()\n",
        "print(s2) # 'samurai'\n",
        "\n",
        "name = input('What is your name? ')\n",
        "\n",
        "print('Hi ' + name + '!')"
      ],
      "execution_count": 1,
      "outputs": [
        {
          "output_type": "stream",
          "text": [
            "SaMurai\n",
            "samurai\n",
            "What is your name? Altalarik\n",
            "Hi Altalarik!\n"
          ],
          "name": "stdout"
        }
      ]
    }
  ]
}