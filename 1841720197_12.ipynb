{
  "nbformat": 4,
  "nbformat_minor": 0,
  "metadata": {
    "colab": {
      "name": "1841720197_12.ipynb",
      "provenance": [],
      "authorship_tag": "ABX9TyPL+9D5okgmixcpNxo9Nrn1",
      "include_colab_link": true
    },
    "kernelspec": {
      "name": "python3",
      "display_name": "Python 3"
    }
  },
  "cells": [
    {
      "cell_type": "markdown",
      "metadata": {
        "id": "view-in-github",
        "colab_type": "text"
      },
      "source": [
        "<a href=\"https://colab.research.google.com/github/altalarikyusuf98/Teknologi_Data/blob/main/1841720197_12.ipynb\" target=\"_parent\"><img src=\"https://colab.research.google.com/assets/colab-badge.svg\" alt=\"Open In Colab\"/></a>"
      ]
    },
    {
      "cell_type": "code",
      "metadata": {
        "colab": {
          "base_uri": "https://localhost:8080/"
        },
        "id": "NJ5n1KUUaK_1",
        "outputId": "846007f2-2e57-45e4-b85c-762cef61d23f"
      },
      "source": [
        "# 'Double' in Single\n",
        "print('\"Double\" in Single') # hasil: \"Double\" in Single\n",
        "\n",
        "# \"Double\" in Double\n",
        "print(\"\\\"Double\\\" in Double\") # hasil: \"Double\" in Double"
      ],
      "execution_count": 17,
      "outputs": [
        {
          "output_type": "stream",
          "text": [
            "\"Double\" in Single\n",
            "\"Double\" in Double\n"
          ],
          "name": "stdout"
        }
      ]
    }
  ]
}