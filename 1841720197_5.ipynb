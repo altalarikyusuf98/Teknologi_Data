{
  "nbformat": 4,
  "nbformat_minor": 0,
  "metadata": {
    "colab": {
      "name": "1841720197_5.ipynb",
      "provenance": [],
      "authorship_tag": "ABX9TyPSf7LyiZva2W30tNijExG2",
      "include_colab_link": true
    },
    "kernelspec": {
      "name": "python3",
      "display_name": "Python 3"
    }
  },
  "cells": [
    {
      "cell_type": "markdown",
      "metadata": {
        "id": "view-in-github",
        "colab_type": "text"
      },
      "source": [
        "<a href=\"https://colab.research.google.com/github/altalarikyusuf98/Teknologi_Data/blob/main/1841720197_5.ipynb\" target=\"_parent\"><img src=\"https://colab.research.google.com/assets/colab-badge.svg\" alt=\"Open In Colab\"/></a>"
      ]
    },
    {
      "cell_type": "code",
      "metadata": {
        "colab": {
          "base_uri": "https://localhost:8080/"
        },
        "id": "NJ5n1KUUaK_1",
        "outputId": "a1929ed1-b1cd-493d-a7a5-ce9d17e4e5c6"
      },
      "source": [
        "# This is a comment\n",
        "print(\"Hello!\") # This is also a comment as a code documentation"
      ],
      "execution_count": 5,
      "outputs": [
        {
          "output_type": "stream",
          "text": [
            "Hello!\n"
          ],
          "name": "stdout"
        }
      ]
    }
  ]
}