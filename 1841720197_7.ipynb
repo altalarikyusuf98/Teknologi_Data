{
  "nbformat": 4,
  "nbformat_minor": 0,
  "metadata": {
    "colab": {
      "name": "1841720197_7.ipynb",
      "provenance": [],
      "authorship_tag": "ABX9TyOc3iSWgpWGnBKGJ2p7c03A",
      "include_colab_link": true
    },
    "kernelspec": {
      "name": "python3",
      "display_name": "Python 3"
    }
  },
  "cells": [
    {
      "cell_type": "markdown",
      "metadata": {
        "id": "view-in-github",
        "colab_type": "text"
      },
      "source": [
        "<a href=\"https://colab.research.google.com/github/altalarikyusuf98/Teknologi_Data/blob/main/1841720197_7.ipynb\" target=\"_parent\"><img src=\"https://colab.research.google.com/assets/colab-badge.svg\" alt=\"Open In Colab\"/></a>"
      ]
    },
    {
      "cell_type": "code",
      "metadata": {
        "colab": {
          "base_uri": "https://localhost:8080/"
        },
        "id": "NJ5n1KUUaK_1",
        "outputId": "dd306c9e-050e-4618-d99f-8ef6470b97f7"
      },
      "source": [
        "print(True or False) # output: True\n",
        "\n",
        "print(True and False) # output: False\n",
        "\n",
        "print(100 > 200) # output: False\n",
        "\n",
        "a = 9\n",
        "print(a > 0) # output: True\n",
        "\n",
        "b = 10\n",
        "print(a > b) # output: False"
      ],
      "execution_count": 12,
      "outputs": [
        {
          "output_type": "stream",
          "text": [
            "True\n",
            "False\n",
            "False\n",
            "True\n",
            "False\n"
          ],
          "name": "stdout"
        }
      ]
    }
  ]
}