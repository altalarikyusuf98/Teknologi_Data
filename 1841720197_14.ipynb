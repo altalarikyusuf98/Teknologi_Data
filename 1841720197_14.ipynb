{
  "nbformat": 4,
  "nbformat_minor": 0,
  "metadata": {
    "colab": {
      "name": "1841720197_14.ipynb",
      "provenance": [],
      "collapsed_sections": [],
      "authorship_tag": "ABX9TyOG/HXV9fL8l0trs+DtWzd3",
      "include_colab_link": true
    },
    "kernelspec": {
      "name": "python3",
      "display_name": "Python 3"
    }
  },
  "cells": [
    {
      "cell_type": "markdown",
      "metadata": {
        "id": "view-in-github",
        "colab_type": "text"
      },
      "source": [
        "<a href=\"https://colab.research.google.com/github/altalarikyusuf98/Teknologi_Data/blob/main/1841720197_14.ipynb\" target=\"_parent\"><img src=\"https://colab.research.google.com/assets/colab-badge.svg\" alt=\"Open In Colab\"/></a>"
      ]
    },
    {
      "cell_type": "code",
      "metadata": {
        "colab": {
          "base_uri": "https://localhost:8080/"
        },
        "id": "NJ5n1KUUaK_1",
        "outputId": "c88b9d5a-6dbf-4777-b5b1-7528990dfb29"
      },
      "source": [
        "print(str(3.14)) # 3.14\n",
        "print(int(\"2345\")) # 2345\n",
        "print(int(75.99999)) # 75\n",
        "print(float(\"5.678\")) # 5.678\n",
        "print(float(9)) # 9.0"
      ],
      "execution_count": 23,
      "outputs": [
        {
          "output_type": "stream",
          "text": [
            "3.14\n",
            "2345\n",
            "75\n",
            "5.678\n",
            "9.0\n"
          ],
          "name": "stdout"
        }
      ]
    }
  ]
}