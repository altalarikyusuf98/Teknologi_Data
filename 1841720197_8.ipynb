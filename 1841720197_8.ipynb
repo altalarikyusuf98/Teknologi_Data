{
  "nbformat": 4,
  "nbformat_minor": 0,
  "metadata": {
    "colab": {
      "name": "1841720197_8.ipynb",
      "provenance": [],
      "authorship_tag": "ABX9TyMbDR0owQFH5JkW27Zvt76y",
      "include_colab_link": true
    },
    "kernelspec": {
      "name": "python3",
      "display_name": "Python 3"
    }
  },
  "cells": [
    {
      "cell_type": "markdown",
      "metadata": {
        "id": "view-in-github",
        "colab_type": "text"
      },
      "source": [
        "<a href=\"https://colab.research.google.com/github/altalarikyusuf98/Teknologi_Data/blob/main/1841720197_8.ipynb\" target=\"_parent\"><img src=\"https://colab.research.google.com/assets/colab-badge.svg\" alt=\"Open In Colab\"/></a>"
      ]
    },
    {
      "cell_type": "code",
      "metadata": {
        "colab": {
          "base_uri": "https://localhost:8080/"
        },
        "id": "M3NUBUaHfS-z",
        "outputId": "3a26f25a-8a08-44bc-bd2d-2f737e027bc8"
      },
      "source": [
        "x = None\n",
        "print(type(x)) # output: NoneType\n",
        "\n",
        "print(x == None) # output: True\n",
        "\n",
        "print(x) # output: None"
      ],
      "execution_count": 1,
      "outputs": [
        {
          "output_type": "stream",
          "text": [
            "<class 'NoneType'>\n",
            "True\n",
            "None\n"
          ],
          "name": "stdout"
        }
      ]
    }
  ]
}